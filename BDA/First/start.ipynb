{
 "cells": [
  {
   "cell_type": "code",
   "execution_count": 1,
   "metadata": {},
   "outputs": [
    {
     "name": "stdout",
     "output_type": "stream",
     "text": [
      "<SparkContext master=local[*] appName=PySparkShell>\n"
     ]
    }
   ],
   "source": [
    "print(sc)"
   ]
  },
  {
   "cell_type": "code",
   "execution_count": 2,
   "metadata": {},
   "outputs": [
    {
     "name": "stdout",
     "output_type": "stream",
     "text": [
      "<pyspark.sql.session.SparkSession object at 0x000001A0180D78B0>\n"
     ]
    }
   ],
   "source": [
    "print(spark)"
   ]
  },
  {
   "cell_type": "code",
   "execution_count": 3,
   "metadata": {},
   "outputs": [
    {
     "name": "stdout",
     "output_type": "stream",
     "text": [
      " Volume in drive S is partage\n",
      " Volume Serial Number is 32D3-9E45\n",
      "\n",
      " Directory of S:\\VENV\n",
      "\n",
      "10/28/2020  07:19 AM    <DIR>          .\n",
      "10/28/2020  07:19 AM    <DIR>          ..\n",
      "10/26/2020  05:03 AM    <DIR>          .ipynb_checkpoints\n",
      "10/27/2020  01:48 PM            42,581 Admission_n_2020.csv\n",
      "10/28/2020  07:19 AM             1,138 Untitled.ipynb\n",
      "10/26/2020  05:01 AM    <DIR>          vBDML\n",
      "               2 File(s)         43,719 bytes\n",
      "               4 Dir(s)  457,992,998,912 bytes free\n"
     ]
    }
   ],
   "source": [
    "!dir"
   ]
  },
  {
   "cell_type": "code",
   "execution_count": 5,
   "metadata": {},
   "outputs": [],
   "source": [
    "raw_data = sc.textFile(\"Admission_n_2020.csv\")"
   ]
  },
  {
   "cell_type": "code",
   "execution_count": 6,
   "metadata": {},
   "outputs": [
    {
     "data": {
      "text/plain": [
       "['spec,IdCentre,ouverture,NoEtud,Nodossier,nom,prenom,pere,tel,mobile,email',\n",
       " ',1,1,609904,10052 f,ALAYWAN,Mostafa,Abed-Alghani,07/996190,70626813,mostafa_stat@hotmail.com',\n",
       " ',1,1,612812,10926 f,EL HABR,Raphael,Fadi,05200456,79304941,raphaelhabr@gmail.com',\n",
       " ',1,2,612493,10962 f,ZAGHRINI,Christine,Walid,04/295639,70455183,christine.zaghrini@gmail.com',\n",
       " ',1,3,608655,1478 bek,AL KHOURY,Roudy,Jean,,76045388,']"
      ]
     },
     "execution_count": 6,
     "metadata": {},
     "output_type": "execute_result"
    }
   ],
   "source": [
    "raw_data.take(5)"
   ]
  },
  {
   "cell_type": "code",
   "execution_count": 7,
   "metadata": {},
   "outputs": [],
   "source": [
    "splited_row = raw_data.map(lambda line: line.split(\",\"))"
   ]
  },
  {
   "cell_type": "code",
   "execution_count": 8,
   "metadata": {},
   "outputs": [
    {
     "data": {
      "text/plain": [
       "[['spec',\n",
       "  'IdCentre',\n",
       "  'ouverture',\n",
       "  'NoEtud',\n",
       "  'Nodossier',\n",
       "  'nom',\n",
       "  'prenom',\n",
       "  'pere',\n",
       "  'tel',\n",
       "  'mobile',\n",
       "  'email'],\n",
       " ['',\n",
       "  '1',\n",
       "  '1',\n",
       "  '609904',\n",
       "  '10052 f',\n",
       "  'ALAYWAN',\n",
       "  'Mostafa',\n",
       "  'Abed-Alghani',\n",
       "  '07/996190',\n",
       "  '70626813',\n",
       "  'mostafa_stat@hotmail.com'],\n",
       " ['',\n",
       "  '1',\n",
       "  '1',\n",
       "  '612812',\n",
       "  '10926 f',\n",
       "  'EL HABR',\n",
       "  'Raphael',\n",
       "  'Fadi',\n",
       "  '05200456',\n",
       "  '79304941',\n",
       "  'raphaelhabr@gmail.com'],\n",
       " ['',\n",
       "  '1',\n",
       "  '2',\n",
       "  '612493',\n",
       "  '10962 f',\n",
       "  'ZAGHRINI',\n",
       "  'Christine',\n",
       "  'Walid',\n",
       "  '04/295639',\n",
       "  '70455183',\n",
       "  'christine.zaghrini@gmail.com'],\n",
       " ['',\n",
       "  '1',\n",
       "  '3',\n",
       "  '608655',\n",
       "  '1478 bek',\n",
       "  'AL KHOURY',\n",
       "  'Roudy',\n",
       "  'Jean',\n",
       "  '',\n",
       "  '76045388',\n",
       "  '']]"
      ]
     },
     "execution_count": 8,
     "metadata": {},
     "output_type": "execute_result"
    }
   ],
   "source": [
    "splited_row.take(5)"
   ]
  },
  {
   "cell_type": "code",
   "execution_count": null,
   "metadata": {},
   "outputs": [],
   "source": []
  }
 ],
 "metadata": {
  "kernelspec": {
   "display_name": "Python 3",
   "language": "python",
   "name": "python3"
  },
  "language_info": {
   "codemirror_mode": {
    "name": "ipython",
    "version": 3
   },
   "file_extension": ".py",
   "mimetype": "text/x-python",
   "name": "python",
   "nbconvert_exporter": "python",
   "pygments_lexer": "ipython3",
   "version": "3.8.6"
  }
 },
 "nbformat": 4,
 "nbformat_minor": 4
}

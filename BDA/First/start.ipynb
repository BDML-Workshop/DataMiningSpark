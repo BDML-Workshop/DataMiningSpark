{
 "cells": [
  {
   "cell_type": "code",
   "execution_count": 1,
   "metadata": {},
   "outputs": [
    {
     "name": "stdout",
     "output_type": "stream",
     "text": [
      "<SparkContext master=local[*] appName=QuickStart>\n"
     ]
    }
   ],
   "source": [
    "import findspark\n",
    "#findspark.init('/home/pascalfares/DataMiningSpark/sparkhome/spark-3.0.1-bin-hadoop2.7')\n",
    "findspark.init('/opt/spark/spark-3.0.1-bin-hadoop2.7')\n",
    "from pyspark.sql import SparkSession\n",
    "spark = SparkSession.builder.appName(\"QuickStart\").getOrCreate()\n",
    "sc = spark.sparkContext\n",
    "print(sc)"
   ]
  },
  {
   "cell_type": "code",
   "execution_count": null,
   "metadata": {},
   "outputs": [],
   "source": [
    "print(spark)"
   ]
  },
  {
   "cell_type": "code",
   "execution_count": null,
   "metadata": {},
   "outputs": [],
   "source": [
    "!dir"
   ]
  },
  {
   "cell_type": "code",
   "execution_count": null,
   "metadata": {},
   "outputs": [],
   "source": [
    "raw_data = sc.textFile(\"Admission_n_2020.csv\")"
   ]
  },
  {
   "cell_type": "code",
   "execution_count": null,
   "metadata": {},
   "outputs": [],
   "source": [
    "raw_data.take(5)"
   ]
  },
  {
   "cell_type": "code",
   "execution_count": 29,
   "metadata": {},
   "outputs": [],
   "source": [
    "def countByCentre(raw_data, dosample=False):\n",
    "    splited_row = raw_data.map(lambda line: line.split(\",\")\n",
    "    keyCentre = splited_row.map(lambda rl: (rl[1], 1))\n",
    "    reducekeys = keyCentre.reduceByKey(lambda a,b:a +b)\n",
    "    return reducekeys"
   ]
  },
  {
   "cell_type": "code",
   "execution_count": null,
   "metadata": {},
   "outputs": [],
   "source": [
    "splited_row = raw_data.map(lambda line: line.split(\",\"))"
   ]
  },
  {
   "cell_type": "code",
   "execution_count": null,
   "metadata": {},
   "outputs": [],
   "source": [
    "splited_row.take(5)"
   ]
  },
  {
   "cell_type": "code",
   "execution_count": null,
   "metadata": {},
   "outputs": [],
   "source": [
    "keyCentre = splited_row.map(lambda rl: (rl[1], 1))"
   ]
  },
  {
   "cell_type": "code",
   "execution_count": null,
   "metadata": {},
   "outputs": [],
   "source": [
    "reducekeys = keyCentre.reduceByKey(lambda a,b:a +b)"
   ]
  },
  {
   "cell_type": "code",
   "execution_count": null,
   "metadata": {},
   "outputs": [],
   "source": [
    "reducekeys.collect()"
   ]
  },
  {
   "cell_type": "code",
   "execution_count": 30,
   "metadata": {},
   "outputs": [
    {
     "data": {
      "text/plain": [
       "[('1', 164),\n",
       " ('4', 53),\n",
       " ('8', 174),\n",
       " ('IdCentre', 1),\n",
       " ('5', 61),\n",
       " ('7', 85),\n",
       " ('6', 38),\n",
       " ('3', 10)]"
      ]
     },
     "execution_count": 30,
     "metadata": {},
     "output_type": "execute_result"
    }
   ],
   "source": [
    "countByCentre(raw_data).collect()"
   ]
  },
  {
   "cell_type": "code",
   "execution_count": null,
   "metadata": {},
   "outputs": [],
   "source": [
    "rdc = raw_data.count()"
   ]
  },
  {
   "cell_type": "code",
   "execution_count": null,
   "metadata": {},
   "outputs": [],
   "source": [
    "rdc"
   ]
  },
  {
   "cell_type": "code",
   "execution_count": 33,
   "metadata": {},
   "outputs": [],
   "source": [
    "avgByCentre = reducekeys.map(lambda c: (c[0], c[1]/rdc))"
   ]
  },
  {
   "cell_type": "code",
   "execution_count": 34,
   "metadata": {},
   "outputs": [
    {
     "data": {
      "text/plain": [
       "[('1', 0.27986348122866894),\n",
       " ('4', 0.09044368600682594),\n",
       " ('8', 0.29692832764505117),\n",
       " ('IdCentre', 0.0017064846416382253),\n",
       " ('5', 0.10409556313993173),\n",
       " ('7', 0.14505119453924914),\n",
       " ('6', 0.06484641638225255),\n",
       " ('3', 0.017064846416382253)]"
      ]
     },
     "execution_count": 34,
     "metadata": {},
     "output_type": "execute_result"
    }
   ],
   "source": [
    "avgByCentre.collect()"
   ]
  },
  {
   "cell_type": "code",
   "execution_count": 59,
   "metadata": {},
   "outputs": [],
   "source": [
    "sample_raw_data = raw_data.sample(False,0.1,88)"
   ]
  },
  {
   "cell_type": "code",
   "execution_count": 60,
   "metadata": {},
   "outputs": [
    {
     "data": {
      "text/plain": [
       "'raw_data_count = 586 sample_raw_data_count = 45'"
      ]
     },
     "execution_count": 60,
     "metadata": {},
     "output_type": "execute_result"
    }
   ],
   "source": [
    "f\"raw_data_count = {raw_data.count()} sample_raw_data_count = {sample_raw_data.count()}\""
   ]
  },
  {
   "cell_type": "code",
   "execution_count": 61,
   "metadata": {},
   "outputs": [],
   "source": [
    "srdc=sample_raw_data.count()"
   ]
  },
  {
   "cell_type": "code",
   "execution_count": 62,
   "metadata": {},
   "outputs": [],
   "source": [
    "sampleAvgByCentre = countByCentre(sample_raw_data).map(lambda c: (c[0], c[1]/srdc))"
   ]
  },
  {
   "cell_type": "code",
   "execution_count": 63,
   "metadata": {},
   "outputs": [
    {
     "data": {
      "text/plain": [
       "[('1', 0.26666666666666666),\n",
       " ('4', 0.15555555555555556),\n",
       " ('8', 0.2),\n",
       " ('7', 0.17777777777777778),\n",
       " ('3', 0.022222222222222223),\n",
       " ('5', 0.13333333333333333),\n",
       " ('6', 0.044444444444444446)]"
      ]
     },
     "execution_count": 63,
     "metadata": {},
     "output_type": "execute_result"
    }
   ],
   "source": [
    "sampleAvgByCentre.collect()"
   ]
  },
  {
   "cell_type": "code",
   "execution_count": 48,
   "metadata": {},
   "outputs": [],
   "source": [
    "keysSample = keyCentre.groupByKey().map(lambda k: {k[0]: 0.1}).reduce(lambda d1,d2: {**d1,**d2})"
   ]
  },
  {
   "cell_type": "code",
   "execution_count": 50,
   "metadata": {},
   "outputs": [
    {
     "data": {
      "text/plain": [
       "{'1': 0.1,\n",
       " '4': 0.1,\n",
       " '8': 0.1,\n",
       " 'IdCentre': 0.1,\n",
       " '5': 0.1,\n",
       " '7': 0.1,\n",
       " '6': 0.1,\n",
       " '3': 0.1}"
      ]
     },
     "execution_count": 50,
     "metadata": {},
     "output_type": "execute_result"
    }
   ],
   "source": [
    "keysSample"
   ]
  },
  {
   "cell_type": "code",
   "execution_count": 65,
   "metadata": {},
   "outputs": [],
   "source": [
    "sample_key_raw_data = keyCentre.sampleByKey(False,keysSample,88)"
   ]
  },
  {
   "cell_type": "code",
   "execution_count": 66,
   "metadata": {},
   "outputs": [],
   "source": [
    "reducekeys = sample_key_raw_data.reduceByKey(lambda a,b:a +b)"
   ]
  },
  {
   "cell_type": "code",
   "execution_count": 67,
   "metadata": {},
   "outputs": [
    {
     "data": {
      "text/plain": [
       "[('1', 12), ('4', 7), ('8', 9), ('7', 8), ('3', 1), ('5', 6), ('6', 2)]"
      ]
     },
     "execution_count": 67,
     "metadata": {},
     "output_type": "execute_result"
    }
   ],
   "source": [
    "reducekeys.collect()"
   ]
  },
  {
   "cell_type": "code",
   "execution_count": 64,
   "metadata": {},
   "outputs": [
    {
     "name": "stdout",
     "output_type": "stream",
     "text": [
      "45\n"
     ]
    },
    {
     "data": {
      "text/plain": [
       "[('1', 0.26666666666666666),\n",
       " ('4', 0.15555555555555556),\n",
       " ('8', 0.2),\n",
       " ('7', 0.17777777777777778),\n",
       " ('3', 0.022222222222222223),\n",
       " ('5', 0.13333333333333333),\n",
       " ('6', 0.044444444444444446)]"
      ]
     },
     "execution_count": 64,
     "metadata": {},
     "output_type": "execute_result"
    }
   ],
   "source": [
    "skrdc=sample_key_raw_data.count()\n",
    "print(skrdc)\n",
    "reducekeys.map(lambda c: (c[0], c[1]/skrdc)).collect()"
   ]
  },
  {
   "cell_type": "code",
   "execution_count": null,
   "metadata": {},
   "outputs": [],
   "source": []
  }
 ],
 "metadata": {
  "kernelspec": {
   "display_name": "Python 3",
   "language": "python",
   "name": "python3"
  },
  "language_info": {
   "codemirror_mode": {
    "name": "ipython",
    "version": 3
   },
   "file_extension": ".py",
   "mimetype": "text/x-python",
   "name": "python",
   "nbconvert_exporter": "python",
   "pygments_lexer": "ipython3",
   "version": "3.8.6"
  }
 },
 "nbformat": 4,
 "nbformat_minor": 4
}
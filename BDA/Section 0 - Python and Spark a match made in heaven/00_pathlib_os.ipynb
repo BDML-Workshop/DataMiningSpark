{
 "cells": [
  {
   "cell_type": "markdown",
   "metadata": {},
   "source": [
    "# Some tuning and python in jupyter tricks"
   ]
  },
  {
   "cell_type": "code",
   "execution_count": null,
   "metadata": {},
   "outputs": [],
   "source": [
    "from pathlib import Path, PurePath\n",
    "import os\n",
    "print(Path('/').resolve())\n",
    "print(Path('.').resolve())\n",
    "print(Path().resolve())\n",
    "print(Path('..').resolve())\n",
    "print(os.getcwd())\n",
    "print(os.environ['DATA_EXAMPLES'])"
   ]
  },
  {
   "cell_type": "code",
   "execution_count": null,
   "metadata": {},
   "outputs": [],
   "source": [
    "print(f\"type of Path is {type(Path().resolve())} but type of getcwd is {type(os.getcwd())}\")"
   ]
  }
 ],
 "metadata": {
  "kernelspec": {
   "display_name": "Python 3",
   "language": "python",
   "name": "python3"
  },
  "language_info": {
   "codemirror_mode": {
    "name": "ipython",
    "version": 3
   },
   "file_extension": ".py",
   "mimetype": "text/x-python",
   "name": "python",
   "nbconvert_exporter": "python",
   "pygments_lexer": "ipython3",
   "version": "3.8.6"
  }
 },
 "nbformat": 4,
 "nbformat_minor": 4
}
